{
 "cells": [
  {
   "cell_type": "markdown",
   "metadata": {},
   "source": [
    "# BTC Price Predictor - Model Training Demo\n",
    "\n",
    "This notebook demonstrates how to train the LSTM and Transformer models for Bitcoin price prediction."
   ]
  },
  {
   "cell_type": "code",
   "execution_count": null,
   "metadata": {},
   "outputs": [],
   "source": [
    "# Import necessary libraries\n",
    "import os\n",
    "import sys\n",
    "import numpy as np\n",
    "import pandas as pd\n",
    "import matplotlib.pyplot as plt\n",
    "from datetime import datetime, timedelta\n",
    "\n",
    "# Add project root to path\n",
    "sys.path.append('..')\n",
    "\n",
    "# Import project modules\n",
    "from src.data.collectors import BinanceDataCollector, CoinGeckoDataCollector\n",
    "from src.data.features import FeatureEngineer\n",
    "from src.models.lstm_model import LSTMModel\n",
    "from src.models.transformer_model import TemporalFusionTransformer\n",
    "from src.models.trainer import ModelTrainer"
   ]
  },
  {
   "cell_type": "markdown",
   "metadata": {},
   "source": [
    "## 1. Data Collection\n",
    "\n",
    "First, let's collect historical Bitcoin price data from Binance and CoinGecko."
   ]
  },
  {
   "cell_type": "code",
   "execution_count": null,
   "metadata": {},
   "outputs": [],
   "source": [
    "# Create data collectors\n",
    "binance_collector = BinanceDataCollector()\n",
    "coingecko_collector = CoinGeckoDataCollector()\n",
    "\n",
    "# Fetch short-term data from Binance (hourly)\n",
    "short_term_data = binance_collector.get_historical_klines(\n",
    "    symbol=\"BTCUSDT\",\n",
    "    interval=\"1h\",\n",
    "    limit=1000  # Last 1000 hours\n",
    ")\n",
    "\n",
    "print(f\"Fetched {len(short_term_data)} records from Binance\")\n",
    "short_term_data.head()"
   ]
  },
  {
   "cell_type": "code",
   "execution_count": null,
   "metadata": {},
   "outputs": [],
   "source": [
    "# Fetch long-term data from CoinGecko (daily)\n",
    "long_term_data = coingecko_collector.get_bitcoin_historical_data(\n",
    "    days=365  # Last 365 days\n",
    ")\n",
    "\n",
    "print(f\"Fetched {len(long_term_data)} records from CoinGecko\")\n",
    "long_term_data.head()"
   ]
  },
  {
   "cell_type": "markdown",
   "metadata": {},
   "source": [
    "## 2. Feature Engineering\n",
    "\n",
    "Now, let's create features for our models."
   ]
  },
  {
   "cell_type": "code",
   "execution_count": null,
   "metadata": {},
   "outputs": [],
   "source": [
    "# Create feature engineer\n",
    "fe = FeatureEngineer()\n",
    "\n",
    "# Process short-term data\n",
    "short_term_features = fe.add_technical_indicators(short_term_data)\n",
    "short_term_features = fe.create_time_features(short_term_features)\n",
    "short_term_features = fe.create_target_variables(short_term_features, horizons=[1, 6, 12, 24])\n",
    "\n",
    "print(f\"Short-term features shape: {short_term_features.shape}\")\n",
    "print(f\"Columns: {short_term_features.columns.tolist()[:10]}...\")"
   ]
  },
  {
   "cell_type": "code",
   "execution_count": null,
   "metadata": {},
   "outputs": [],
   "source": [
    "# Process long-term data\n",
    "# For CoinGecko data, we need to adapt the feature engineering\n",
    "long_term_features = long_term_data.copy()\n",
    "long_term_features = fe.add_technical_indicators(long_term_features, price_col='price', volume_col='volume')\n",
    "long_term_features = fe.create_target_variables(long_term_features, price_col='price', horizons=[1, 3, 7, 14])\n",
    "\n",
    "print(f\"Long-term features shape: {long_term_features.shape}\")\n",
    "print(f\"Columns: {long_term_features.columns.tolist()[:10]}...\")"
   ]
  },
  {
   "cell_type": "markdown",
   "metadata": {},
   "source": [
    "## 3. Visualize the Data\n",
    "\n",
    "Let's visualize the Bitcoin price and some technical indicators."
   ]
  },
  {
   "cell_type": "code",
   "execution_count": null,
   "metadata": {},
   "outputs": [],
   "source": [
    "# Plot Bitcoin price\n",
    "plt.figure(figsize=(14, 7))\n",
    "plt.plot(short_term_features['open_time'], short_term_features['close'])\n",
    "plt.title('Bitcoin Price (Hourly)')\n",
    "plt.xlabel('Date')\n",
    "plt.ylabel('Price (USD)')\n",
    "plt.grid(True)\n",
    "plt.show()"
   ]
  },
  {
   "cell_type": "code",
   "execution_count": null,
   "metadata": {},
   "outputs": [],
   "source": [
    "# Plot technical indicators\n",
    "plt.figure(figsize=(14, 10))\n",
    "\n",
    "# Price and moving averages\n",
    "plt.subplot(3, 1, 1)\n",
    "plt.plot(short_term_features['open_time'], short_term_features['close'], label='Price')\n",
    "plt.plot(short_term_features['open_time'], short_term_features['sma_7'], label='SMA 7')\n",
    "plt.plot(short_term_features['open_time'], short_term_features['sma_30'], label='SMA 30')\n",
    "plt.title('Price and Moving Averages')\n",
    "plt.legend()\n",
    "plt.grid(True)\n",
    "\n",
    "# RSI\n",
    "plt.subplot(3, 1, 2)\n",
    "plt.plot(short_term_features['open_time'], short_term_features['rsi_14'])\n",
    "plt.axhline(y=70, color='r', linestyle='-')\n",
    "plt.axhline(y=30, color='g', linestyle='-')\n",
    "plt.title('RSI (14)')\n",
    "plt.grid(True)\n",
    "\n",
    "# MACD\n",
    "plt.subplot(3, 1, 3)\n",
    "plt.plot(short_term_features['open_time'], short_term_features['macd'], label='MACD')\n",
    "plt.plot(short_term_features['open_time'], short_term_features['macd_signal'], label='Signal')\n",
    "plt.bar(short_term_features['open_time'], short_term_features['macd_hist'], alpha=0.3, label='Histogram')\n",
    "plt.title('MACD')\n",
    "plt.legend()\n",
    "plt.grid(True)\n",
    "\n",
    "plt.tight_layout()\n",
    "plt.show()"
   ]
  },
  {
   "cell_type": "markdown",
   "metadata": {},
   "source": [
    "## 4. Prepare Data for Training\n",
    "\n",
    "Let's prepare the data for training our models."
   ]
  },
  {
   "cell_type": "code",
   "execution_count": null,
   "metadata": {},
   "outputs": [],
   "source": [
    "# Create model trainer\n",
    "trainer = ModelTrainer()\n",
    "\n",
    "# Select features for LSTM model\n",
    "lstm_feature_cols = [\n",
    "    'open', 'high', 'low', 'close', 'volume',\n",
    "    'sma_7', 'sma_14', 'ema_7', 'ema_14', \n",
    "    'rsi_14', 'macd', 'macd_signal',\n",
    "    'hour_sin', 'hour_cos', 'day_sin', 'day_cos'\n",
    "]\n",
    "\n",
    "# Keep only columns that exist in the data\n",
    "lstm_feature_cols = [col for col in lstm_feature_cols if col in short_term_features.columns]\n",
    "\n",
    "# Target variable (24-hour price prediction)\n",
    "target_col = 'future_price_24'\n",
    "\n",
    "# Prepare data for LSTM model\n",
    "X_train, y_train, X_val, y_val, X_test, y_test = trainer.prepare_data(\n",
    "    df=short_term_features.dropna(),\n",
    "    feature_cols=lstm_feature_cols,\n",
    "    target_col=target_col,\n",
    "    sequence_length=24,  # 24 hours of data\n",
    "    test_size=0.2,\n",
    "    validation_size=0.1\n",
    ")\n",
    "\n",
    "print(f\"Training data shape: {X_train.shape}, {y_train.shape}\")\n",
    "print(f\"Validation data shape: {X_val.shape}, {y_val.shape}\")\n",
    "print(f\"Test data shape: {X_test.shape}, {y_test.shape}\")"
   ]
  },
  {
   "cell_type": "markdown",
   "metadata": {},
   "source": [
    "## 5. Train LSTM Model\n",
    "\n",
    "Now, let's train the LSTM model for short-term predictions."
   ]
  },
  {
   "cell_type": "code",
   "execution_count": null,
   "metadata": {},
   "outputs": [],
   "source": [
    "# Train LSTM model\n",
    "lstm_model = trainer.train_lstm_model(\n",
    "    X_train, y_train,\n",
    "    X_val, y_val,\n",
    "    model_name='lstm_24h',\n",
    "    model_type='bidirectional',  # Use bidirectional LSTM\n",
    "    lstm_units=128,\n",
    "    dropout_rate=0.3,\n",
    "    batch_size=32,\n",
    "    epochs=50,\n",
    "    patience=10\n",
    ")"
   ]
  },
  {
   "cell_type": "markdown",
   "metadata": {},
   "source": [
    "## 6. Evaluate LSTM Model\n",
    "\n",
    "Let's evaluate the LSTM model on the test data."
   ]
  },
  {
   "cell_type": "code",
   "execution_count": null,
   "metadata": {},
   "outputs": [],
   "source": [
    "# Evaluate LSTM model\n",
    "lstm_metrics = trainer.evaluate_model(lstm_model, X_test, y_test)\n",
    "print(\"LSTM Model Metrics:\")\n",
    "for metric, value in lstm_metrics.items():\n",
    "    print(f\"  {metric}: {value}\")"
   ]
  },
  {
   "cell_type": "code",
   "execution_count": null,
   "metadata": {},
   "outputs": [],
   "source": [
    "# Make predictions on test data\n",
    "y_pred = lstm_model.predict(X_test).flatten()\n",
    "\n",
    "# Plot actual vs predicted prices\n",
    "plt.figure(figsize=(14, 7))\n",
    "plt.plot(y_test, label='Actual')\n",
    "plt.plot(y_pred, label='Predicted')\n",
    "plt.title('LSTM Model: Actual vs Predicted Bitcoin Prices')\n",
    "plt.xlabel('Time')\n",
    "plt.ylabel('Price (USD)')\n",
    "plt.legend()\n",
    "plt.grid(True)\n",
    "plt.show()"
   ]
  },
  {
   "cell_type": "markdown",
   "metadata": {},
   "source": [
    "## 7. Train Transformer Model\n",
    "\n",
    "Now, let's train the Transformer model for long-term predictions."
   ]
  },
  {
   "cell_type": "code",
   "execution_count": null,
   "metadata": {},
   "outputs": [],
   "source": [
    "# Select features for Transformer model\n",
    "transformer_feature_cols = [\n",
    "    'price', 'volume', 'market_cap',\n",
    "    'sma_7', 'sma_30', 'ema_7', 'ema_30',\n",
    "    'rsi_14', 'macd', 'macd_signal'\n",
    "]\n",
    "\n",
    "# Keep only columns that exist in the data\n",
    "transformer_feature_cols = [col for col in transformer_feature_cols if col in long_term_features.columns]\n",
    "\n",
    "# Target variable (7-day price prediction)\n",
    "target_col = 'future_price_7'\n",
    "\n",
    "# Prepare data for Transformer model\n",
    "X_train_tf, y_train_tf, X_val_tf, y_val_tf, X_test_tf, y_test_tf = trainer.prepare_data(\n",
    "    df=long_term_features.dropna(),\n",
    "    feature_cols=transformer_feature_cols,\n",
    "    target_col=target_col,\n",
    "    sequence_length=30,  # 30 days of data\n",
    "    test_size=0.2,\n",
    "    validation_size=0.1\n",
    ")\n",
    "\n",
    "print(f\"Training data shape: {X_train_tf.shape}, {y_train_tf.shape}\")\n",
    "print(f\"Validation data shape: {X_val_tf.shape}, {y_val_tf.shape}\")\n",
    "print(f\"Test data shape: {X_test_tf.shape}, {y_test_tf.shape}\")"
   ]
  },
  {
   "cell_type": "code",
   "execution_count": null,
   "metadata": {},
   "outputs": [],
   "source": [
    "# Train Transformer model\n",
    "transformer_model = trainer.train_transformer_model(\n",
    "    X_train_tf, y_train_tf,\n",
    "    X_val_tf, y_val_tf,\n",
    "    model_name='transformer_7d',\n",
    "    n_heads=4,\n",
    "    hidden_dim=128,\n",
    "    dropout_rate=0.2,\n",
    "    batch_size=16,\n",
    "    epochs=50,\n",
    "    patience=10\n",
    ")"
   ]
  },
  {
   "cell_type": "markdown",
   "metadata": {},
   "source": [
    "## 8. Evaluate Transformer Model\n",
    "\n",
    "Let's evaluate the Transformer model on the test data."
   ]
  },
  {
   "cell_type": "code",
   "execution_count": null,
   "metadata": {},
   "outputs": [],
   "source": [
    "# Evaluate Transformer model\n",
    "transformer_metrics = trainer.evaluate_model(transformer_model, X_test_tf, y_test_tf)\n",
    "print(\"Transformer Model Metrics:\")\n",
    "for metric, value in transformer_metrics.items():\n",
    "    print(f\"  {metric}: {value}\")"
   ]
  },
  {
   "cell_type": "code",
   "execution_count": null,
   "metadata": {},
   "outputs": [],
   "source": [
    "# Make predictions on test data\n",
    "y_pred_tf = transformer_model.predict(X_test_tf).flatten()\n",
    "\n",
    "# Plot actual vs predicted prices\n",
    "plt.figure(figsize=(14, 7))\n",
    "plt.plot(y_test_tf, label='Actual')\n",
    "plt.plot(y_pred_tf, label='Predicted')\n",
    "plt.title('Transformer Model: Actual vs Predicted Bitcoin Prices')\n",
    "plt.xlabel('Time')\n",
    "plt.ylabel('Price (USD)')\n",
    "plt.legend()\n",
    "plt.grid(True)\n",
    "plt.show()"
   ]
  },
  {
   "cell_type": "markdown",
   "metadata": {},
   "source": [
    "## 9. Make a New Prediction\n",
    "\n",
    "Let's use our trained models to make a new prediction."
   ]
  },
  {
   "cell_type": "code",
   "execution_count": null,
   "metadata": {},
   "outputs": [],
   "source": [
    "# Get the latest data\n",
    "latest_data = binance_collector.get_historical_klines(\n",
    "    symbol=\"BTCUSDT\",\n",
    "    interval=\"1h\",\n",
    "    limit=48  # Last 48 hours\n",
    ")\n",
    "\n",
    "# Process the data\n",
    "latest_features = fe.add_technical_indicators(latest_data)\n",
    "latest_features = fe.create_time_features(latest_features)\n",
    "\n",
    "# Select features\n",
    "latest_features_array = latest_features[lstm_feature_cols].values\n",
    "\n",
    "# Create sequence for model input\n",
    "sequence_length = 24\n",
    "model_input = latest_features_array[-sequence_length:].reshape(1, sequence_length, len(lstm_feature_cols))\n",
    "\n",
    "# Make prediction\n",
    "predicted_price = lstm_model.predict(model_input)[0][0]\n",
    "\n",
    "# Get current price\n",
    "current_price = latest_data['close'].iloc[-1]\n",
    "\n",
    "print(f\"Current BTC Price: ${current_price:.2f}\")\n",
    "print(f\"Predicted BTC Price (24h): ${predicted_price:.2f}\")\n",
    "print(f\"Change: ${predicted_price - current_price:.2f} ({(predicted_price - current_price) / current_price * 100:.2f}%)\")"
   ]
  },
  {
   "cell_type": "markdown",
   "metadata": {},
   "source": [
    "## 10. Conclusion\n",
    "\n",
    "In this notebook, we've demonstrated how to:\n",
    "\n",
    "1. Collect Bitcoin price data from Binance and CoinGecko\n",
    "2. Create features for our models\n",
    "3. Train LSTM and Transformer models\n",
    "4. Evaluate the models\n",
    "5. Make new predictions\n",
    "\n",
    "These models can be deployed in the BTC Price Predictor application to provide real-time predictions."
   ]
  }
 ],
 "metadata": {
  "kernelspec": {
   "display_name": "Python 3",
   "language": "python",
   "name": "python3"
  },
  "language_info": {
   "codemirror_mode": {
    "name": "ipython",
    "version": 3
   },
   "file_extension": ".py",
   "mimetype": "text/x-python",
   "name": "python",
   "nbconvert_exporter": "python",
   "pygments_lexer": "ipython3",
   "version": "3.8.10"
  }
 },
 "nbformat": 4,
 "nbformat_minor": 4
}